{
  "nbformat": 4,
  "nbformat_minor": 0,
  "metadata": {
    "colab": {
      "provenance": []
    },
    "kernelspec": {
      "name": "python3",
      "display_name": "Python 3"
    },
    "language_info": {
      "name": "python"
    }
  },
  "cells": [
    {
      "cell_type": "markdown",
      "source": [
        "Meriam GAIED & Sofiene KAMMOUN"
      ],
      "metadata": {
        "id": "FqNw0brqZwy2"
      }
    },
    {
      "cell_type": "code",
      "source": [
        "import tensorflow as tf\n",
        "from tensorflow import keras\n",
        "from keras import layers as L\n",
        "import numpy as np\n",
        "from sklearn.model_selection import train_test_split\n",
        "%matplotlib inline\n",
        "import matplotlib.pyplot as plt\n",
        "import numpy as np\n",
        "from collections import defaultdict\n",
        "from keras.models import load_model\n",
        "from keras.datasets import mnist"
      ],
      "metadata": {
        "id": "ozITNbFyfEp7"
      },
      "execution_count": null,
      "outputs": []
    },
    {
      "cell_type": "markdown",
      "source": [
        "# **Build the autoencoder**"
      ],
      "metadata": {
        "id": "lNkEuTy5K-uF"
      }
    },
    {
      "cell_type": "code",
      "source": [
        "def build_deep_autoencoder(img_shape, code_size):\n",
        "    H, W, C = img_shape\n",
        "\n",
        "    # encoder\n",
        "    encoder = keras.models.Sequential()\n",
        "    encoder.add(L.InputLayer(img_shape))\n",
        "    encoder.add(L.Conv2D(filters=32, kernel_size=(3, 3), activation='elu', padding='same'))\n",
        "    encoder.add(L.MaxPooling2D(pool_size=(2, 2)))\n",
        "    encoder.add(L.Conv2D(filters=64, kernel_size=(3, 3), activation='elu', padding='same'))\n",
        "    encoder.add(L.MaxPooling2D(pool_size=(2, 2)))\n",
        "    encoder.add(L.Conv2D(filters=128, kernel_size=(3, 3), activation='elu', padding='same'))\n",
        "    encoder.add(L.MaxPooling2D(pool_size=(2, 2)))\n",
        "    encoder.add(L.Conv2D(filters=256, kernel_size=(3, 3), activation='elu', padding='same'))\n",
        "    encoder.add(L.MaxPooling2D(pool_size=(2, 2)))\n",
        "    encoder.add(L.Flatten())\n",
        "    encoder.add(L.Dense(code_size))\n",
        "\n",
        "    # decoder\n",
        "    decoder = keras.models.Sequential()\n",
        "    decoder.add(L.InputLayer((code_size,)))\n",
        "    decoder.add(L.Dense(2*2*256))\n",
        "    decoder.add(L.Reshape((2, 2, 256)))\n",
        "    decoder.add(L.Conv2DTranspose(filters=128, kernel_size=(3, 3), strides=2, activation='elu', padding='same'))\n",
        "    decoder.add(L.Conv2DTranspose(filters=64, kernel_size=(3, 3), strides=2, activation='elu', padding='same'))\n",
        "    decoder.add(L.Conv2DTranspose(filters=32, kernel_size=(3, 3), strides=2, activation='elu', padding='same'))\n",
        "    decoder.add(L.Conv2DTranspose(filters=3, kernel_size=(3, 3), strides=2, activation=None, padding='same'))\n",
        "\n",
        "    return encoder, decoder"
      ],
      "metadata": {
        "id": "Mfck-WMPfNrf"
      },
      "execution_count": null,
      "outputs": []
    },
    {
      "cell_type": "markdown",
      "source": [
        "# **Load Dataset**"
      ],
      "metadata": {
        "id": "bE9UexmcLdxs"
      }
    },
    {
      "cell_type": "code",
      "source": [
        "# Load MNIST dataset\n",
        "(x_train, y_train), (x_test, y_test) = mnist.load_data()\n",
        "\n",
        "# Normalize pixel values to be between 0 and 1\n",
        "x_train, x_test = x_train / 255.0, x_test / 255.0\n",
        "\n",
        "\n"
      ],
      "metadata": {
        "id": "W8KVhoVcfTQ5",
        "colab": {
          "base_uri": "https://localhost:8080/"
        },
        "outputId": "cf271981-c901-4585-b00e-f7fdc67856ac"
      },
      "execution_count": null,
      "outputs": [
        {
          "output_type": "stream",
          "name": "stdout",
          "text": [
            "Downloading data from https://storage.googleapis.com/tensorflow/tf-keras-datasets/mnist.npz\n",
            "11490434/11490434 [==============================] - 1s 0us/step\n"
          ]
        }
      ]
    },
    {
      "cell_type": "markdown",
      "source": [
        "# **Show random images from train**"
      ],
      "metadata": {
        "id": "ElaaEapqLp3f"
      }
    },
    {
      "cell_type": "code",
      "source": [
        "# Display random images\n",
        "num_images_to_display = 5\n",
        "random_indices = np.random.choice(len(x_train), num_images_to_display)\n",
        "\n",
        "plt.figure(figsize=(10, 2))\n",
        "\n",
        "for i, idx in enumerate(random_indices, 1):\n",
        "    plt.subplot(1, num_images_to_display, i)\n",
        "    plt.imshow(x_train[idx], cmap='gray')\n",
        "    plt.title(f\"Label: {y_train[idx]}\")\n",
        "    plt.axis('off')\n",
        "\n",
        "plt.show()\n"
      ],
      "metadata": {
        "id": "DaiIOwAsLwZk",
        "colab": {
          "base_uri": "https://localhost:8080/",
          "height": 192
        },
        "outputId": "d49dc9a5-05de-484b-982e-1c46a0dfd7d7"
      },
      "execution_count": null,
      "outputs": [
        {
          "output_type": "display_data",
          "data": {
            "text/plain": [
              "<Figure size 1000x200 with 5 Axes>"
            ],
            "image/png": "[encoded data removed]"
          },
          "metadata": {}
        }
      ]
    },
    {
      "cell_type": "markdown",
      "source": [
        "# **Compile the model**"
      ],
      "metadata": {
        "id": "QwZ7V1nONqjH"
      }
    },
    {
      "cell_type": "code",
      "source": [
        "img_shape = (28, 28, 1)\n",
        "code_size = 256\n",
        "\n",
        "encoder, decoder = build_deep_autoencoder(img_shape, code_size)\n",
        "autoencoder = keras.models.Sequential([encoder, decoder])\n",
        "\n",
        "autoencoder.compile(optimizer='adam', loss='categorical_crossentropy', metrics=['accuracy'])"
      ],
      "metadata": {
        "id": "PXCZHlfCNpTy"
      },
      "execution_count": null,
      "outputs": []
    },
    {
      "cell_type": "markdown",
      "source": [
        "# **Get descriptors for all images in the train**"
      ],
      "metadata": {
        "id": "uIFQyhIYL932"
      }
    },
    {
      "cell_type": "code",
      "source": [
        "images = x_train\n",
        "\n",
        "descriptors = autoencoder.layers[0].predict(images)\n",
        "\n",
        "print(\"Descriptors shape:\", descriptors.shape)\n",
        "\n"
      ],
      "metadata": {
        "id": "DglQFOZHLx3P",
        "colab": {
          "base_uri": "https://localhost:8080/"
        },
        "outputId": "c02362d9-f8cf-446d-f443-f7ccb036d601"
      },
      "execution_count": null,
      "outputs": [
        {
          "output_type": "stream",
          "name": "stdout",
          "text": [
            "1875/1875 [==============================] - 37s 19ms/step\n",
            "Descriptors shape: (60000, 256)\n"
          ]
        }
      ]
    },
    {
      "metadata": {
        "id": "QGjFgnAjmx_l"
      },
      "cell_type": "markdown",
      "source": [
        "# **Image Search**\n"
      ]
    },
    {
      "cell_type": "markdown",
      "source": [
        "Define Distance metric using the Nearest Neighbors Technique"
      ],
      "metadata": {
        "id": "cq8UoV7vP_fY"
      }
    },
    {
      "cell_type": "code",
      "source": [
        "from sklearn.neighbors import NearestNeighbors\n",
        "nei_clf = NearestNeighbors(metric=\"euclidean\")\n",
        "\n",
        "nei_clf.fit(descriptors)\n",
        "\n",
        "\n",
        "# Choose a random image as the query image\n",
        "query_index = np.random.randint(len(descriptors))\n",
        "query_descriptor = descriptors[query_index].reshape(1, -1)\n",
        "distances, indices = nei_clf.kneighbors(query_descriptor)\n",
        "\n",
        "\n",
        "################################################Get and Show similar images############################################################\n",
        "\n",
        "\n",
        "# Find nearest neighbors\n",
        "distances, indices = nei_clf.kneighbors(query_descriptor)\n",
        "\n",
        "# Display query image\n",
        "plt.figure(figsize=(10, 3))\n",
        "plt.subplot(1, 6, 1)\n",
        "plt.imshow(x_train[query_index], cmap='gray')\n",
        "plt.title(\"Query Image\")\n",
        "plt.axis('off')\n",
        "\n",
        "# Display similar images\n",
        "for i in range(5):\n",
        "    plt.subplot(1, 6, i + 2)\n",
        "    similar_index = indices[0, i]\n",
        "    plt.imshow(x_train[similar_index], cmap='gray')\n",
        "    plt.title(f\"Similar {i + 1}\")\n",
        "    plt.axis('off')\n",
        "\n",
        "plt.show()"
      ],
      "metadata": {
        "id": "iz1WEWR5K799",
        "colab": {
          "base_uri": "https://localhost:8080/",
          "height": 170
        },
        "outputId": "3e2ab588-c9eb-4645-9519-59a8d0585f0a"
      },
      "execution_count": null,
      "outputs": [
        {
          "output_type": "display_data",
          "data": {
            "text/plain": [
              "<Figure size 1000x300 with 6 Axes>"
            ],
            "image/png": "[encoded data removed]"
          },
          "metadata": {}
        }
      ]
    }
  ]
}